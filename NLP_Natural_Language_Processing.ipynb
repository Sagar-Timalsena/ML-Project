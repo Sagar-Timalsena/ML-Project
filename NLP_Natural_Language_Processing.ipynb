{
  "nbformat": 4,
  "nbformat_minor": 0,
  "metadata": {
    "colab": {
      "private_outputs": true,
      "provenance": [],
      "authorship_tag": "ABX9TyOmbKVcvPYANXV1epfkRSUN",
      "include_colab_link": true
    },
    "kernelspec": {
      "name": "python3",
      "display_name": "Python 3"
    },
    "language_info": {
      "name": "python"
    }
  },
  "cells": [
    {
      "cell_type": "markdown",
      "metadata": {
        "id": "view-in-github",
        "colab_type": "text"
      },
      "source": [
        "<a href=\"https://colab.research.google.com/github/Sagar-Timalsena/ML-Project/blob/master/NLP_Natural_Language_Processing.ipynb\" target=\"_parent\"><img src=\"https://colab.research.google.com/assets/colab-badge.svg\" alt=\"Open In Colab\"/></a>"
      ]
    },
    {
      "cell_type": "markdown",
      "source": [
        "Spacy Basics\n"
      ],
      "metadata": {
        "id": "T5ByBdH0EIzJ"
      }
    },
    {
      "cell_type": "code",
      "execution_count": null,
      "metadata": {
        "id": "cehH3m0gDvGB"
      },
      "outputs": [],
      "source": [
        "import spacy"
      ]
    },
    {
      "cell_type": "code",
      "source": [
        "nlp = spacy.load('en_core_web_sm')"
      ],
      "metadata": {
        "id": "T8ALMgFYEjGL"
      },
      "execution_count": null,
      "outputs": []
    },
    {
      "cell_type": "code",
      "source": [
        "doc = nlp(u'Tesla is looking at buying U.S. Startup for $6 Million')"
      ],
      "metadata": {
        "id": "MAxejaH4EqHw"
      },
      "execution_count": null,
      "outputs": []
    },
    {
      "cell_type": "code",
      "source": [
        "for token in doc:\n",
        "\n",
        "  print(token.text,token.dep_,token.dep_)"
      ],
      "metadata": {
        "id": "n8RemqU5E3Jm"
      },
      "execution_count": null,
      "outputs": []
    },
    {
      "cell_type": "code",
      "source": [
        "nlp.pipeline"
      ],
      "metadata": {
        "id": "3A-_pkQiFp7O"
      },
      "execution_count": null,
      "outputs": []
    },
    {
      "cell_type": "code",
      "source": [
        "nlp.pipe_names"
      ],
      "metadata": {
        "id": "wZYJoscTFt4D"
      },
      "execution_count": null,
      "outputs": []
    },
    {
      "cell_type": "code",
      "source": [
        "doc2 = nlp(u\"Tesla isn't looking into startups any mores\")"
      ],
      "metadata": {
        "id": "HOsIod3uFzFT"
      },
      "execution_count": null,
      "outputs": []
    },
    {
      "cell_type": "code",
      "source": [
        "for token in doc2:\n",
        "\n",
        "  print(token.text,  token.pos_,  token.dep_)"
      ],
      "metadata": {
        "id": "RDKNEMW8F8ze"
      },
      "execution_count": null,
      "outputs": []
    },
    {
      "cell_type": "code",
      "source": [
        "doc2[0].pos_"
      ],
      "metadata": {
        "id": "GDu32oMqGNPH"
      },
      "execution_count": null,
      "outputs": []
    },
    {
      "cell_type": "code",
      "source": [
        "nlp = spacy.load(\"en_core_web_sm\")\n",
        "print(\"Pipeline:\", nlp.pipe_names)\n",
        "doc = nlp(\"I was reading the paper.\")\n",
        "token = doc[0]  # 'I'\n",
        "print(token.morph)  # 'Case=Nom|Number=Sing|Person=1|PronType=Prs'\n",
        "print(token.morph.get(\"PronType\"))  # ['Prs']"
      ],
      "metadata": {
        "id": "Hd08okejHZh7"
      },
      "execution_count": null,
      "outputs": []
    }
  ]
}